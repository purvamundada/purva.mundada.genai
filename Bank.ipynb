{
  "nbformat": 4,
  "nbformat_minor": 0,
  "metadata": {
    "colab": {
      "provenance": []
    },
    "kernelspec": {
      "name": "python3",
      "display_name": "Python 3"
    },
    "language_info": {
      "name": "python"
    }
  },
  "cells": [
    {
      "cell_type": "code",
      "execution_count": 1,
      "metadata": {
        "id": "l0sfLYk4DsCq"
      },
      "outputs": [],
      "source": [
        "def calculate_monthly_interest(balance, annual_rate):\n",
        "    # Convert annual interest rate to monthly rate\n",
        "    monthly_rate = annual_rate / 12 / 100\n",
        "    return balance * monthly_rate"
      ]
    },
    {
      "cell_type": "code",
      "source": [
        "def interest_calculation(balances, annual_rate):\n",
        "    # Calculate minimum balance for each month\n",
        "    min_balances = [min(month_balance) for month_balance in zip(*balances)]\n",
        "    total_min_balance = sum(min_balances)\n",
        "    total_interest = calculate_monthly_interest(total_min_balance, annual_rate) * 6\n",
        "    return total_interest"
      ],
      "metadata": {
        "id": "0IYnuvQmDww2"
      },
      "execution_count": 2,
      "outputs": []
    },
    {
      "cell_type": "code",
      "source": [
        "balances = [\n",
        "    [1000, 1200, 1100, 1150, 1300, 1400, 1200, 1300, 1250, 1150, 1200, 1300, 1400, 1300, 1250, 1300, 1400, 1250, 1200, 1300, 1400, 1250, 1150, 1200, 1300, 1400, 1250, 1200, 1150, 1300, 1400, 1200, 1150, 1300, 1400, 1250, 1200, 1150, 1300, 1400, 1250, 1150, 1300, 1400, 1250, 1200, 1300, 1400, 1150, 1200, 1300, 1400, 1250, 1150],\n",
        "    [1050, 1250, 1150, 1200, 1350, 1450, 1250, 1350, 1300, 1200, 1250, 1350, 1450, 1350, 1300, 1350, 1450, 1300, 1250, 1350, 1450, 1300, 1200, 1250, 1350, 1450, 1300, 1200, 1250, 1350, 1450, 1300, 1200, 1250, 1350, 1450, 1300, 1250, 1200, 1350, 1450, 1300, 1200, 1350, 1450, 1300, 1250, 1350, 1450, 1200, 1250, 1350, 1450, 1300],\n",
        "    [1100, 1300, 1200, 1250, 1400, 1500, 1300, 1400, 1350, 1250, 1300, 1400, 1500, 1400, 1350, 1400, 1500, 1350, 1300, 1400, 1500, 1350, 1250, 1300, 1400, 1500, 1350, 1250, 1300, 1400, 1500, 1350, 1250, 1300, 1400, 1500, 1350, 1300, 1250, 1400, 1500, 1350, 1250, 1300, 1400, 1500, 1350, 1250, 1300, 1400, 1500, 1350],\n",
        "    [1150, 1350, 1250, 1300, 1450, 1550, 1350, 1450, 1400, 1300, 1350, 1450, 1550, 1450, 1400, 1450, 1550, 1400, 1350, 1450, 1550, 1400, 1300, 1350, 1450, 1550, 1400, 1300, 1350, 1450, 1550, 1400, 1300, 1350, 1450, 1550, 1400, 1350, 1300, 1450, 1550, 1400, 1300, 1350, 1450, 1550, 1400, 1350, 1300, 1450, 1550, 1400],\n",
        "    [1200, 1400, 1300, 1350, 1500, 1600, 1400, 1500, 1450, 1350, 1400, 1500, 1600, 1500, 1450, 1500, 1600, 1450, 1400, 1500, 1600, 1450, 1350, 1400, 1500, 1600, 1450, 1350, 1400, 1500, 1600, 1450, 1350, 1400, 1500, 1600, 1450, 1400, 1350, 1500, 1600, 1450, 1350, 1400, 1500, 1600, 1450, 1400, 1350, 1500, 1600, 1450],\n",
        "    [1250, 1450, 1350, 1400, 1550, 1650, 1450, 1550, 1500, 1400, 1450, 1550, 1650, 1550, 1500, 1550, 1650, 1500, 1450, 1550, 1650, 1500, 1400, 1450, 1550, 1650, 1500, 1400, 1450, 1550, 1650, 1500, 1400, 1450, 1550, 1650, 1500, 1450, 1400, 1550, 1650, 1500, 1400, 1450, 1550, 1650, 1500, 1450, 1400, 1550, 1650, 1500]\n",
        "]\n",
        "\n",
        "annual_rate = 6"
      ],
      "metadata": {
        "id": "F0x73ucbD0qF"
      },
      "execution_count": 3,
      "outputs": []
    },
    {
      "cell_type": "code",
      "source": [
        "total_interest = interest_calculation(balances, annual_rate)\n",
        "print(f\"Total Interest for 6 Months: {total_interest:.2f}\")\n"
      ],
      "metadata": {
        "colab": {
          "base_uri": "https://localhost:8080/"
        },
        "id": "fsbDt-n1D6kK",
        "outputId": "6a768f24-0af0-4f6c-ca8d-d35e9b0d5a2b"
      },
      "execution_count": 4,
      "outputs": [
        {
          "output_type": "stream",
          "name": "stdout",
          "text": [
            "Total Interest for 6 Months: 1945.50\n"
          ]
        }
      ]
    },
    {
      "cell_type": "code",
      "source": [],
      "metadata": {
        "id": "5SSr5EW9D84l"
      },
      "execution_count": null,
      "outputs": []
    }
  ]
}